{
 "cells": [
  {
   "cell_type": "code",
   "execution_count": 9,
   "metadata": {},
   "outputs": [],
   "source": [
    "import requests\n",
    "from bs4 import BeautifulSoup as bs\n",
    "import os \n",
    "import re\n",
    "url = 'https://www.jkforum.net/forum.php?mod=forumdisplay&action=list&fid=1402'\n",
    "request = requests.get(url)\n",
    "html = bs(request.text)\n",
    "links = html.findAll('a',{'style':\"font-weight: bold;color: #8F2A90\"}) #要下載的頁面連結\n",
    "urlist = {}\n",
    "def get_download_link( links, urlist ):\n",
    "    for i  in [3,8,13]:\n",
    "        c = links[i]['href']\n",
    "        url = 'https://www.jkforum.net/'+c\n",
    "        #print(url)\n",
    "        request = requests.get(url)\n",
    "        html = bs( request.text )\n",
    "        #print(html.prettify())\n",
    "        #print(html.findAll( 'a', { 'id':re.compile('aid........')} ))\n",
    "        file = html.findAll( 'a', { 'id':re.compile('aid........')} )\n",
    "        for item in file:\n",
    "            count = item.find_next().text[-4:-1]\n",
    "            count = int(count)\n",
    "            #print(count)\n",
    "            if count > 800:\n",
    "                urlist[item.text] = (item['href'])\n",
    "                #urlist.update({item.text:item['href']})\n",
    "    return urlist"
   ]
  },
  {
   "cell_type": "code",
   "execution_count": 10,
   "metadata": {},
   "outputs": [],
   "source": [
    "def download( urlist ):\n",
    "    os.makedirs( './torrent', exist_ok = True )\n",
    "    for name in urlist.keys():\n",
    "        with open( './torrent/'+name, 'wb' ) as f:\n",
    "            r = requests.get( 'https://www.jkforum.net/'+urlist[name] )\n",
    "            f.write( r.content )\n",
    "            "
   ]
  },
  {
   "cell_type": "code",
   "execution_count": 11,
   "metadata": {},
   "outputs": [],
   "source": [
    "if __name__ == '__main__':\n",
    "    get_download_link( links, urlist )\n",
    "    #print(urlist)\n",
    "    download( urlist )"
   ]
  },
  {
   "cell_type": "code",
   "execution_count": 8,
   "metadata": {},
   "outputs": [
    {
     "data": {
      "text/plain": [
       "'\\n找尋窗口對角點的位置(上下左右)\\nwndCreateDownloadRect = win32gui.GetWindowRect(downwin)\\nprint(wndCreateDownloadRect)'"
      ]
     },
     "execution_count": 8,
     "metadata": {},
     "output_type": "execute_result"
    }
   ],
   "source": [
    "import win32gui\n",
    "import win32api\n",
    "import win32con\n",
    "import time \n",
    "def leftmouse( x, y ):\n",
    "    win32api.SetCursorPos( [x,y] )\n",
    "    win32api.mouse_event( win32con.MOUSEEVENTF_LEFTDOWN,0,0,0,0 )\n",
    "    time.sleep(0.2)\n",
    "    win32api.mouse_event( win32con.MOUSEEVENTF_LEFTUP,0,0,0,0 )\n",
    "    time.sleep(0.1)\n",
    "\n",
    "path = r\"C:\\Users\\ciat3\\Desktop\\pratice\\torrent\\\\\"\n",
    "filename = os.listdir('torrent')\n",
    "for name in filename:\n",
    "    print(name)\n",
    "    if name[0] == '[':\n",
    "        old = name\n",
    "        name = name.split(' ')\n",
    "        if name[2] == 'FC2':\n",
    "            name  = 'FC2-PPV-'+name[-2]+name[-1]\n",
    "            os.rename(path+old, path+name)\n",
    "            #print(name)\n",
    "        else:\n",
    "            name = name[-2]+name[-1]\n",
    "            os.rename(path+old, path+name)\n",
    "    os.system(path+name)\n",
    "    time.sleep(2)\n",
    "    wndMain = win32gui.FindWindow(None, u'新建任务面板')\n",
    "    wndMainRect = win32gui.GetWindowRect(wndMain) \n",
    "    #print(wndMainRect)\n",
    "    leftmouse( wndMainRect[0]+118, wndMainRect[1]+133 )\n",
    "    leftmouse( wndMainRect[0]+118, wndMainRect[1]+133 )\n",
    "    leftmouse( wndMainRect[0]+169, wndMainRect[1]+133 )\n",
    "    leftmouse( wndMainRect[0]+348, wndMainRect[1]+532 )\n",
    "    leftmouse( wndMainRect[0]+282, wndMainRect[1]+582 )\n",
    "    \n",
    "'''\n",
    "尋找滑鼠位置\n",
    "from win32 import win32gui\n",
    "x,y=win32gui.GetCursorPos()\n",
    "print(x)\n",
    "print(y)'''\n",
    "'''\n",
    "找尋所有窗口代碼\n",
    "hWndList = [] \n",
    "win32gui.EnumWindows(lambda hWnd, param: param.append(hWnd), hWndList) \n",
    "print(hWndList)\n",
    "for i in hWndList:\n",
    "    print( win32gui.GetWindowText(i), i )'''\n",
    "'''\n",
    "找尋窗口對角點的位置(上下左右)\n",
    "wndCreateDownloadRect = win32gui.GetWindowRect(downwin)\n",
    "print(wndCreateDownloadRect)'''"
   ]
  }
 ],
 "metadata": {
  "kernelspec": {
   "display_name": "Python 3",
   "language": "python",
   "name": "python3"
  },
  "language_info": {
   "codemirror_mode": {
    "name": "ipython",
    "version": 3
   },
   "file_extension": ".py",
   "mimetype": "text/x-python",
   "name": "python",
   "nbconvert_exporter": "python",
   "pygments_lexer": "ipython3",
   "version": "3.7.3"
  }
 },
 "nbformat": 4,
 "nbformat_minor": 2
}
